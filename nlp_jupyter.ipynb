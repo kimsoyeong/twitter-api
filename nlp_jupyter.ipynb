{
 "cells": [
  {
   "cell_type": "code",
   "execution_count": 1,
   "id": "034ce0fb",
   "metadata": {},
   "outputs": [],
   "source": [
    "# pip install tensorflow\n",
    "# pip install nltk"
   ]
  },
  {
   "cell_type": "code",
   "execution_count": 1,
   "id": "103d3dc4",
   "metadata": {},
   "outputs": [
    {
     "name": "stderr",
     "output_type": "stream",
     "text": [
      "2022-12-14 15:04:11.419311: I tensorflow/core/platform/cpu_feature_guard.cc:193] This TensorFlow binary is optimized with oneAPI Deep Neural Network Library (oneDNN) to use the following CPU instructions in performance-critical operations:  AVX2 FMA\n",
      "To enable them in other operations, rebuild TensorFlow with the appropriate compiler flags.\n",
      "2022-12-14 15:04:11.541293: W tensorflow/compiler/xla/stream_executor/platform/default/dso_loader.cc:64] Could not load dynamic library 'libcudart.so.11.0'; dlerror: libcudart.so.11.0: cannot open shared object file: No such file or directory\n",
      "2022-12-14 15:04:11.541317: I tensorflow/compiler/xla/stream_executor/cuda/cudart_stub.cc:29] Ignore above cudart dlerror if you do not have a GPU set up on your machine.\n",
      "2022-12-14 15:04:12.186152: W tensorflow/compiler/xla/stream_executor/platform/default/dso_loader.cc:64] Could not load dynamic library 'libnvinfer.so.7'; dlerror: libnvinfer.so.7: cannot open shared object file: No such file or directory\n",
      "2022-12-14 15:04:12.186210: W tensorflow/compiler/xla/stream_executor/platform/default/dso_loader.cc:64] Could not load dynamic library 'libnvinfer_plugin.so.7'; dlerror: libnvinfer_plugin.so.7: cannot open shared object file: No such file or directory\n",
      "2022-12-14 15:04:12.186218: W tensorflow/compiler/tf2tensorrt/utils/py_utils.cc:38] TF-TRT Warning: Cannot dlopen some TensorRT libraries. If you would like to use Nvidia GPU with TensorRT, please make sure the missing libraries mentioned above are installed properly.\n"
     ]
    }
   ],
   "source": [
    "import tensorflow as tf\n",
    "import pandas as pd\n",
    "from nltk.corpus import stopwords\n",
    "from nltk.stem import WordNetLemmatizer\n",
    "from nltk.tokenize.casual import TweetTokenizer\n",
    "from tensorflow.keras.preprocessing.text import Tokenizer\n",
    "from tensorflow.keras.preprocessing.sequence import pad_sequences\n",
    "import warnings\n",
    "\n",
    "warnings.simplefilter(\"ignore\")\n",
    "warnings.simplefilter(\"ignore\", category=FutureWarning)"
   ]
  },
  {
   "cell_type": "code",
   "execution_count": 43,
   "id": "6c1e7f07",
   "metadata": {},
   "outputs": [],
   "source": [
    "class DataPreprocessor:\n",
    "    def __init__(self):\n",
    "        self.stop_word = set(stopwords.words('english'))\n",
    "        stop_word_symbol = {\"…\", \"’\", \":\", '\"', '-', '️', '&', '“', '(', '/', \"'\", \";\", \"+\", \"*\", \"~\"}\n",
    "        self.stop_word.update(stop_word_symbol)\n",
    "        \n",
    "        self.tokenizer = TweetTokenizer(reduce_len=True)\n",
    "        self.lemmatizer = WordNetLemmatizer()\n",
    "        \n",
    "        self.total_cnt = 0\n",
    "        self.max_len = 100\n",
    "        \n",
    "        self.regex = \"RT (@[A-Za-z0-9_]+)|(@[A-Za-z0-9_]+)|https\\S+|http\\S+|(?<!\\d)[.,;:!?](?!\\d)\"\n",
    "        \n",
    "    def preprocess(self, data_file, test_file):  \n",
    "        data = pd.read_csv(data_file)\n",
    "        test_data = pd.read_csv(test_file)\n",
    "        data.drop_duplicates(subset=['tweet'], inplace=True)\n",
    "        test_data.drop_duplicates(subset=['tweet'], inplace=True)\n",
    "        \n",
    "        data['tweet'] = data['tweet'].str.replace(self.regex, \"\")\n",
    "        test_data['tweet'] = test_data['tweet'].str.replace(self.regex, \"\")\n",
    "        \n",
    "        data['tokenized'] = data['tweet'].apply(lambda x: [self.lemmatizer.lemmatize(word) for word in self.tokenizer.tokenize(x.lower()) if word not in self.stop_word])\n",
    "        test_data['tokenized'] = test_data['tweet'].apply(lambda x: [self.lemmatizer.lemmatize(word) for word in self.tokenizer.tokenize(x.lower()) if word not in self.stop_word])\n",
    "    \n",
    "        X_data, Y_data = data['tokenized'].values, data['label'].values\n",
    "        X_test, Y_test = test_data['tokenized'].values, test_data['label'].values\n",
    "        \n",
    "        tk = Tokenizer()\n",
    "        tk.fit_on_texts(X_data)\n",
    "        self.total_cnt = len(tk.word_index)\n",
    "        \n",
    "        self.tk_oov = Tokenizer(self.total_cnt, oov_token='OOV')\n",
    "        self.tk_oov.fit_on_texts(X_data)\n",
    "        X_data = self.tk_oov.texts_to_sequences(X_data)\n",
    "        X_test = self.tk_oov.texts_to_sequences(X_test)\n",
    "        \n",
    "        X_data = pad_sequences(X_data, maxlen=self.max_len)\n",
    "        X_test = pad_sequences(X_test, maxlen=self.max_len)\n",
    "\n",
    "        return X_data, Y_data, X_test, Y_test, self.total_cnt\n",
    "    \n",
    "    def preprocess_sentence(self, sentence):\n",
    "        col = ['tweet']\n",
    "        X_df = pd.DataFrame([sentence], columns=col)\n",
    "\n",
    "        X_df = X_df['tweet'].str.replace(self.regex, \"\")\n",
    "\n",
    "        X_df['tokenized'] = X_df.apply(lambda x: [self.lemmatizer.lemmatize(word) for word in self.tokenizer.tokenize(x.lower()) if word not in self.stop_word])\n",
    "\n",
    "        X = X_df['tokenized'].values\n",
    "        \n",
    "        X = self.tk_oov.texts_to_sequences(X)\n",
    "        X = pad_sequences(X, maxlen=self.max_len)\n",
    "        \n",
    "        return X"
   ]
  },
  {
   "cell_type": "code",
   "execution_count": 44,
   "id": "75794f41",
   "metadata": {},
   "outputs": [],
   "source": [
    "dp = DataPreprocessor()\n",
    "X_data, Y_data, X_test, Y_test, total_cnt = dp.preprocess(\"./TweetBLM.csv\", \"./crawl/tweets-new.csv\")"
   ]
  },
  {
   "cell_type": "code",
   "execution_count": 45,
   "id": "9418d202",
   "metadata": {},
   "outputs": [],
   "source": [
    "from tensorflow.keras.layers import Embedding, Dense, GRU\n",
    "from tensorflow.keras.models import Sequential\n",
    "from tensorflow.keras.models import load_model\n",
    "from tensorflow.keras.callbacks import EarlyStopping, ModelCheckpoint\n",
    "from tensorflow.keras import regularizers"
   ]
  },
  {
   "cell_type": "code",
   "execution_count": 46,
   "id": "3cbd9354",
   "metadata": {},
   "outputs": [],
   "source": [
    "reg_coeff = 0.001 # options: 0.01, 0.1, 0, 1, 10\n",
    "\n",
    "# create the model\n",
    "model = Sequential()\n",
    "model.add(Embedding(total_cnt, 100))\n",
    "model.add(GRU(128))\n",
    "model.add(Dense(1, activation='sigmoid',\n",
    "                kernel_regularizer=regularizers.l1(reg_coeff), \n",
    "                bias_regularizer=regularizers.l2(reg_coeff)))\n",
    "\n",
    "# callbacks\n",
    "es = EarlyStopping(monitor='val_loss', mode='min', verbose=1, patience=8)\n",
    "mc = ModelCheckpoint('best_GRU.h5', monitor='val_acc', mode='max', verbose=1, save_best_only=True)\n",
    "\n",
    "# compile the model\n",
    "model.compile(optimizer='adam', loss='binary_crossentropy', metrics=['acc'])"
   ]
  },
  {
   "cell_type": "code",
   "execution_count": 47,
   "id": "44b50e40",
   "metadata": {
    "scrolled": true
   },
   "outputs": [
    {
     "name": "stdout",
     "output_type": "stream",
     "text": [
      "Epoch 1/20\n",
      "115/115 [==============================] - ETA: 0s - loss: 0.4761 - acc: 0.8267\n",
      "Epoch 1: val_acc improved from -inf to 0.07474, saving model to best_GRU.h5\n",
      "115/115 [==============================] - 12s 86ms/step - loss: 0.4761 - acc: 0.8267 - val_loss: 1.3497 - val_acc: 0.0747\n",
      "Epoch 2/20\n",
      "115/115 [==============================] - ETA: 0s - loss: 0.2845 - acc: 0.8830\n",
      "Epoch 2: val_acc improved from 0.07474 to 0.38789, saving model to best_GRU.h5\n",
      "115/115 [==============================] - 9s 82ms/step - loss: 0.2845 - acc: 0.8830 - val_loss: 1.2608 - val_acc: 0.3879\n",
      "Epoch 3/20\n",
      "115/115 [==============================] - ETA: 0s - loss: 0.1490 - acc: 0.9519\n",
      "Epoch 3: val_acc improved from 0.38789 to 0.40153, saving model to best_GRU.h5\n",
      "115/115 [==============================] - 10s 83ms/step - loss: 0.1490 - acc: 0.9519 - val_loss: 1.7577 - val_acc: 0.4015\n",
      "Epoch 4/20\n",
      "115/115 [==============================] - ETA: 0s - loss: 0.0932 - acc: 0.9727\n",
      "Epoch 4: val_acc improved from 0.40153 to 0.40316, saving model to best_GRU.h5\n",
      "115/115 [==============================] - 10s 83ms/step - loss: 0.0932 - acc: 0.9727 - val_loss: 2.5018 - val_acc: 0.4032\n",
      "Epoch 5/20\n",
      "115/115 [==============================] - ETA: 0s - loss: 0.0702 - acc: 0.9825\n",
      "Epoch 5: val_acc did not improve from 0.40316\n",
      "115/115 [==============================] - 9s 82ms/step - loss: 0.0702 - acc: 0.9825 - val_loss: 2.9507 - val_acc: 0.3530\n",
      "Epoch 6/20\n",
      "115/115 [==============================] - ETA: 0s - loss: 0.0550 - acc: 0.9869\n",
      "Epoch 6: val_acc did not improve from 0.40316\n",
      "115/115 [==============================] - 9s 81ms/step - loss: 0.0550 - acc: 0.9869 - val_loss: 3.0710 - val_acc: 0.3426\n",
      "Epoch 7/20\n",
      "115/115 [==============================] - ETA: 0s - loss: 0.0457 - acc: 0.9895\n",
      "Epoch 7: val_acc did not improve from 0.40316\n",
      "115/115 [==============================] - 10s 83ms/step - loss: 0.0457 - acc: 0.9895 - val_loss: 3.3311 - val_acc: 0.3710\n",
      "Epoch 8/20\n",
      "115/115 [==============================] - ETA: 0s - loss: 0.0414 - acc: 0.9905\n",
      "Epoch 8: val_acc improved from 0.40316 to 0.42390, saving model to best_GRU.h5\n",
      "115/115 [==============================] - 9s 81ms/step - loss: 0.0414 - acc: 0.9905 - val_loss: 2.7251 - val_acc: 0.4239\n",
      "Epoch 9/20\n",
      "115/115 [==============================] - ETA: 0s - loss: 0.0358 - acc: 0.9922\n",
      "Epoch 9: val_acc did not improve from 0.42390\n",
      "115/115 [==============================] - 10s 83ms/step - loss: 0.0358 - acc: 0.9922 - val_loss: 3.0926 - val_acc: 0.3841\n",
      "Epoch 10/20\n",
      "115/115 [==============================] - ETA: 0s - loss: 0.0345 - acc: 0.9922\n",
      "Epoch 10: val_acc did not improve from 0.42390\n",
      "115/115 [==============================] - 10s 84ms/step - loss: 0.0345 - acc: 0.9922 - val_loss: 2.9326 - val_acc: 0.3546\n",
      "Epoch 10: early stopping\n",
      "16/16 [==============================] - 1s 26ms/step - loss: 1.0806 - acc: 0.7382\n"
     ]
    }
   ],
   "source": [
    "# train the model on the dataset\n",
    "history = model.fit(X_data, Y_data, epochs=20, callbacks=[es, mc], batch_size=64, validation_split=0.2)\n",
    "\n",
    "GRU_model = load_model('best_GRU.h5')\n",
    "\n",
    "# evaluate the model on the test data\n",
    "results = GRU_model.evaluate(X_test, Y_test)"
   ]
  },
  {
   "cell_type": "code",
   "execution_count": 48,
   "id": "0bee20b1",
   "metadata": {},
   "outputs": [
    {
     "name": "stdout",
     "output_type": "stream",
     "text": [
      "Test loss: 1.0806\n",
      "Test accuracy: 73.82\n"
     ]
    }
   ],
   "source": [
    "print('Test loss: %.4f' % results[0])\n",
    "print('Test accuracy: %.2f' % (results[1]*100))"
   ]
  },
  {
   "cell_type": "code",
   "execution_count": 90,
   "id": "f97171ff",
   "metadata": {},
   "outputs": [
    {
     "name": "stdout",
     "output_type": "stream",
     "text": [
      "1/1 [==============================] - 0s 25ms/step\n",
      "[0.9096677]\n",
      "1/1 [==============================] - 0s 24ms/step\n",
      "[0.00550769]\n",
      "1/1 [==============================] - 0s 23ms/step\n",
      "[0.42200926]\n"
     ]
    }
   ],
   "source": [
    "bad = dp.preprocess_sentence(\"FUCK!!! It's terrible. Boring. Tired. Worst ever.\")\n",
    "good = dp.preprocess_sentence(\"LOVE. Like. happy. happiness. peaceful.\")\n",
    "neutral = dp.preprocess_sentence(\"bitch\")\n",
    "\n",
    "for b in GRU_model.predict(bad): print(b)\n",
    "for g in GRU_model.predict(good): print(g)\n",
    "for n in GRU_model.predict(neutral): print(n)"
   ]
  },
  {
   "cell_type": "code",
   "execution_count": 109,
   "id": "0f499b99",
   "metadata": {},
   "outputs": [
    {
     "name": "stdout",
     "output_type": "stream",
     "text": [
      "1/1 [==============================] - 0s 24ms/step\n"
     ]
    },
    {
     "data": {
      "text/plain": [
       "array([[0.9158893]], dtype=float32)"
      ]
     },
     "execution_count": 109,
     "metadata": {},
     "output_type": "execute_result"
    }
   ],
   "source": [
    "test_se = dp.preprocess_sentence(\"gross dislike hate you\")\n",
    "# test_se = dp.preprocess_sentence(\"\")\n",
    "GRU_model.predict(test_se)"
   ]
  },
  {
   "cell_type": "code",
   "execution_count": null,
   "id": "3d9d0e40",
   "metadata": {},
   "outputs": [],
   "source": []
  }
 ],
 "metadata": {
  "kernelspec": {
   "display_name": "Python 3 (ipykernel)",
   "language": "python",
   "name": "python3"
  },
  "language_info": {
   "codemirror_mode": {
    "name": "ipython",
    "version": 3
   },
   "file_extension": ".py",
   "mimetype": "text/x-python",
   "name": "python",
   "nbconvert_exporter": "python",
   "pygments_lexer": "ipython3",
   "version": "3.10.6"
  }
 },
 "nbformat": 4,
 "nbformat_minor": 5
}

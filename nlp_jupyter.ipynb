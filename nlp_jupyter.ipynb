{
 "cells": [
  {
   "cell_type": "code",
   "execution_count": 1,
   "id": "90ad4456",
   "metadata": {},
   "outputs": [],
   "source": [
    "# pip install tensorflow\n",
    "# pip install nltk"
   ]
  },
  {
   "cell_type": "code",
   "execution_count": 2,
   "id": "ea50ab0f",
   "metadata": {},
   "outputs": [
    {
     "name": "stderr",
     "output_type": "stream",
     "text": [
      "2022-12-14 12:09:07.049924: I tensorflow/core/platform/cpu_feature_guard.cc:193] This TensorFlow binary is optimized with oneAPI Deep Neural Network Library (oneDNN) to use the following CPU instructions in performance-critical operations:  AVX2 FMA\n",
      "To enable them in other operations, rebuild TensorFlow with the appropriate compiler flags.\n",
      "2022-12-14 12:09:07.178165: W tensorflow/compiler/xla/stream_executor/platform/default/dso_loader.cc:64] Could not load dynamic library 'libcudart.so.11.0'; dlerror: libcudart.so.11.0: cannot open shared object file: No such file or directory\n",
      "2022-12-14 12:09:07.178188: I tensorflow/compiler/xla/stream_executor/cuda/cudart_stub.cc:29] Ignore above cudart dlerror if you do not have a GPU set up on your machine.\n",
      "2022-12-14 12:09:07.843857: W tensorflow/compiler/xla/stream_executor/platform/default/dso_loader.cc:64] Could not load dynamic library 'libnvinfer.so.7'; dlerror: libnvinfer.so.7: cannot open shared object file: No such file or directory\n",
      "2022-12-14 12:09:07.843913: W tensorflow/compiler/xla/stream_executor/platform/default/dso_loader.cc:64] Could not load dynamic library 'libnvinfer_plugin.so.7'; dlerror: libnvinfer_plugin.so.7: cannot open shared object file: No such file or directory\n",
      "2022-12-14 12:09:07.843922: W tensorflow/compiler/tf2tensorrt/utils/py_utils.cc:38] TF-TRT Warning: Cannot dlopen some TensorRT libraries. If you would like to use Nvidia GPU with TensorRT, please make sure the missing libraries mentioned above are installed properly.\n"
     ]
    }
   ],
   "source": [
    "import tensorflow as tf\n",
    "import pandas as pd\n",
    "from nltk.corpus import stopwords\n",
    "from nltk.stem import WordNetLemmatizer\n",
    "from nltk.tokenize.casual import TweetTokenizer\n",
    "import warnings\n",
    "\n",
    "warnings.simplefilter(\"ignore\")\n",
    "warnings.simplefilter(\"ignore\", category=FutureWarning)"
   ]
  },
  {
   "cell_type": "code",
   "execution_count": 3,
   "id": "742b92e1",
   "metadata": {},
   "outputs": [],
   "source": [
    "# stop_word\n",
    "stop_word = set(stopwords.words('english'))\n",
    "stop_word_symbol = {\"…\", \"’\", \":\", '\"', '-', '️', '&', '“', '(', '/', \"'\", \";\", \"+\", \"*\", \"~\"}\n",
    "stop_word.update(stop_word_symbol)"
   ]
  },
  {
   "cell_type": "code",
   "execution_count": 4,
   "id": "a722297e",
   "metadata": {},
   "outputs": [],
   "source": [
    "data = pd.read_csv(\"./TweetBLM.csv\")\n",
    "test_data = pd.read_csv(\"./crawl/tweets-new.csv\")\n",
    "data.drop_duplicates(subset=['tweet'], inplace=True)\n",
    "test_data.drop_duplicates(subset=['tweet'], inplace=True)"
   ]
  },
  {
   "cell_type": "code",
   "execution_count": 5,
   "id": "fdf1a70c",
   "metadata": {},
   "outputs": [
    {
     "name": "stdout",
     "output_type": "stream",
     "text": [
      "Number of Tweets:  9165\n"
     ]
    }
   ],
   "source": [
    "# exporting tweet column\n",
    "print('Number of Tweets: ', len(data['tweet'].tolist()))\n",
    "\n",
    "data['tweet'] = data['tweet'].str.replace(\"RT (@[A-Za-z0-9_]+)|(@[A-Za-z0-9_]+)|https\\S+|http\\S+|(?<!\\d)[.,;:!?](?!\\d)\", \"\")\n",
    "test_data['tweet'] = test_data['tweet'].str.replace(\n",
    "    \"RT (@[A-Za-z0-9_]+)|(@[A-Za-z0-9_]+)|https\\S+|http\\S+|(?<!\\d)[.,;:!?](?!\\d)\",\n",
    "    \"\")"
   ]
  },
  {
   "cell_type": "code",
   "execution_count": 6,
   "id": "6fdae017",
   "metadata": {},
   "outputs": [],
   "source": [
    "# Lemmatizer\n",
    "tokenizer = TweetTokenizer(reduce_len=True)\n",
    "lemmatizer = WordNetLemmatizer()\n",
    "\n",
    "# Tokenize\n",
    "data['tokenized'] = data['tweet'].apply(\n",
    "    lambda x: [lemmatizer.lemmatize(word) for word in tokenizer.tokenize(x.lower()) if word not in stop_word])\n",
    "test_data['tokenized'] = test_data['tweet'].apply(\n",
    "    lambda x: [lemmatizer.lemmatize(word) for word in tokenizer.tokenize(x.lower()) if word not in stop_word])"
   ]
  },
  {
   "cell_type": "code",
   "execution_count": 7,
   "id": "f48ebd5f",
   "metadata": {},
   "outputs": [],
   "source": [
    "from tensorflow.keras.preprocessing.text import Tokenizer\n",
    "from tensorflow.keras.preprocessing.sequence import pad_sequences\n",
    "\n",
    "# load the dataset\n",
    "X_data, Y_data = data['tokenized'].values, data['label'].values\n",
    "X_test, Y_test = test_data['tokenized'].values, test_data['label'].values\n",
    "\n",
    "tk = Tokenizer()\n",
    "tk.fit_on_texts(X_data)\n",
    "\n",
    "total_cnt = len(tk.word_index)\n",
    "\n",
    "tk = Tokenizer(total_cnt, oov_token='OOV')\n",
    "tk.fit_on_texts(X_data)\n",
    "X_data = tk.texts_to_sequences(X_data)\n",
    "X_test = tk.texts_to_sequences(X_test)\n",
    "\n",
    "max_len = 100\n",
    "X_data = pad_sequences(X_data, maxlen=max_len)\n",
    "X_test = pad_sequences(X_test, maxlen=max_len)"
   ]
  },
  {
   "cell_type": "code",
   "execution_count": 8,
   "id": "873f2e44",
   "metadata": {},
   "outputs": [],
   "source": [
    "from tensorflow.keras.layers import Embedding, Dense, GRU\n",
    "from tensorflow.keras.models import Sequential\n",
    "from tensorflow.keras.models import load_model\n",
    "from tensorflow.keras.callbacks import EarlyStopping, ModelCheckpoint"
   ]
  },
  {
   "cell_type": "code",
   "execution_count": 9,
   "id": "d053aa50",
   "metadata": {},
   "outputs": [
    {
     "name": "stderr",
     "output_type": "stream",
     "text": [
      "2022-12-14 12:09:11.477369: W tensorflow/compiler/xla/stream_executor/platform/default/dso_loader.cc:64] Could not load dynamic library 'libcuda.so.1'; dlerror: libcuda.so.1: cannot open shared object file: No such file or directory\n",
      "2022-12-14 12:09:11.477404: W tensorflow/compiler/xla/stream_executor/cuda/cuda_driver.cc:265] failed call to cuInit: UNKNOWN ERROR (303)\n",
      "2022-12-14 12:09:11.477427: I tensorflow/compiler/xla/stream_executor/cuda/cuda_diagnostics.cc:156] kernel driver does not appear to be running on this host (ubuntu): /proc/driver/nvidia/version does not exist\n",
      "2022-12-14 12:09:11.477648: I tensorflow/core/platform/cpu_feature_guard.cc:193] This TensorFlow binary is optimized with oneAPI Deep Neural Network Library (oneDNN) to use the following CPU instructions in performance-critical operations:  AVX2 FMA\n",
      "To enable them in other operations, rebuild TensorFlow with the appropriate compiler flags.\n"
     ]
    }
   ],
   "source": [
    "# create the model\n",
    "\n",
    "model = Sequential()\n",
    "model.add(Embedding(total_cnt, 100))\n",
    "model.add(GRU(128))\n",
    "model.add(Dense(1, activation='sigmoid'))\n",
    "\n",
    "# callbacks\n",
    "es = EarlyStopping(monitor='val_loss', mode='min', verbose=1, patience=5)\n",
    "mc = ModelCheckpoint('best_GRU.h5', monitor='val_acc', mode='max', verbose=1, save_best_only=True)\n",
    "\n",
    "# compile the model\n",
    "model.compile(optimizer='adam', loss='binary_crossentropy', metrics=['acc'])"
   ]
  },
  {
   "cell_type": "code",
   "execution_count": 10,
   "id": "f2a77451",
   "metadata": {},
   "outputs": [
    {
     "name": "stdout",
     "output_type": "stream",
     "text": [
      "Epoch 1/10\n",
      "229/230 [============================>.] - ETA: 0s - loss: 0.4358 - acc: 0.8311\n",
      "Epoch 1: val_acc improved from -inf to 0.11566, saving model to best_GRU.h5\n",
      "230/230 [==============================] - 17s 66ms/step - loss: 0.4357 - acc: 0.8312 - val_loss: 2.0475 - val_acc: 0.1157\n",
      "Epoch 2/10\n",
      "229/230 [============================>.] - ETA: 0s - loss: 0.2465 - acc: 0.8998\n",
      "Epoch 2: val_acc improved from 0.11566 to 0.31151, saving model to best_GRU.h5\n",
      "230/230 [==============================] - 15s 63ms/step - loss: 0.2463 - acc: 0.8999 - val_loss: 1.7566 - val_acc: 0.3115\n",
      "Epoch 3/10\n",
      "229/230 [============================>.] - ETA: 0s - loss: 0.1186 - acc: 0.9563\n",
      "Epoch 3: val_acc improved from 0.31151 to 0.40862, saving model to best_GRU.h5\n",
      "230/230 [==============================] - 15s 65ms/step - loss: 0.1187 - acc: 0.9562 - val_loss: 1.8855 - val_acc: 0.4086\n",
      "Epoch 4/10\n",
      "229/230 [============================>.] - ETA: 0s - loss: 0.0785 - acc: 0.9726\n",
      "Epoch 4: val_acc did not improve from 0.40862\n",
      "230/230 [==============================] - 15s 64ms/step - loss: 0.0784 - acc: 0.9726 - val_loss: 2.8124 - val_acc: 0.3546\n",
      "Epoch 5/10\n",
      "229/230 [============================>.] - ETA: 0s - loss: 0.0540 - acc: 0.9805\n",
      "Epoch 5: val_acc did not improve from 0.40862\n",
      "230/230 [==============================] - 15s 64ms/step - loss: 0.0539 - acc: 0.9805 - val_loss: 3.0195 - val_acc: 0.3813\n",
      "Epoch 6/10\n",
      "229/230 [============================>.] - ETA: 0s - loss: 0.0399 - acc: 0.9870\n",
      "Epoch 6: val_acc did not improve from 0.40862\n",
      "230/230 [==============================] - 15s 64ms/step - loss: 0.0399 - acc: 0.9870 - val_loss: 3.0684 - val_acc: 0.3541\n",
      "Epoch 7/10\n",
      "229/230 [============================>.] - ETA: 0s - loss: 0.0314 - acc: 0.9892\n",
      "Epoch 7: val_acc did not improve from 0.40862\n",
      "230/230 [==============================] - 15s 63ms/step - loss: 0.0314 - acc: 0.9892 - val_loss: 3.3783 - val_acc: 0.3688\n",
      "Epoch 7: early stopping\n",
      "16/16 [==============================] - 1s 19ms/step - loss: 0.6841 - acc: 0.7505\n",
      "[0.6840820908546448, 0.7505112290382385]\n"
     ]
    }
   ],
   "source": [
    "# train the model on the dataset\n",
    "history = model.fit(X_data, Y_data, epochs=10, callbacks=[es, mc], batch_size=32, validation_split=0.2)\n",
    "\n",
    "GRU_model = load_model('best_GRU.h5')\n",
    "# evaluate the model on the test data\n",
    "results = GRU_model.evaluate(X_test, Y_test)\n",
    "\n",
    "print(results)"
   ]
  },
  {
   "cell_type": "code",
   "execution_count": null,
   "id": "bbc70f7c",
   "metadata": {},
   "outputs": [],
   "source": []
  }
 ],
 "metadata": {
  "kernelspec": {
   "display_name": "Python 3 (ipykernel)",
   "language": "python",
   "name": "python3"
  },
  "language_info": {
   "codemirror_mode": {
    "name": "ipython",
    "version": 3
   },
   "file_extension": ".py",
   "mimetype": "text/x-python",
   "name": "python",
   "nbconvert_exporter": "python",
   "pygments_lexer": "ipython3",
   "version": "3.10.6"
  }
 },
 "nbformat": 4,
 "nbformat_minor": 5
}
